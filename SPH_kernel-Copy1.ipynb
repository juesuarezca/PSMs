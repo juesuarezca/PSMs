{
 "cells": [
  {
   "cell_type": "code",
   "execution_count": 1,
   "metadata": {},
   "outputs": [],
   "source": [
    "import numpy as np\n",
    "import torch\n",
    "import sys\n",
    "sys.path.insert(1, '/home/suarez08/PhD_PINNs/PIPS_framework')\n",
    "from sobolev import Sobolev\n",
    "from sobolev import Sobolev\n",
    "from solver import Solver\n",
    "from utils import matmul\n",
    "import surrogates\n",
    "import time\n",
    "sys.path.insert(1, '/home/suarez08/minterpy/src')\n",
    "from diffeomorphisms import hyper_rect\n",
    "import matplotlib\n",
    "import matplotlib.pyplot as plt\n",
    "#style.use('dark_background')\n",
    "matplotlib.rcdefaults() "
   ]
  },
  {
   "cell_type": "code",
   "execution_count": 2,
   "metadata": {},
   "outputs": [],
   "source": [
    "device = torch.device('cuda' if torch.cuda.is_available() else 'cpu')\n",
    "torch.set_default_dtype(torch.float64)"
   ]
  },
  {
   "cell_type": "markdown",
   "metadata": {},
   "source": [
    "Parameters required for interpolation"
   ]
  },
  {
   "cell_type": "code",
   "execution_count": 3,
   "metadata": {},
   "outputs": [
    {
     "name": "stdout",
     "output_type": "stream",
     "text": [
      "time consumption: 1.60s\n",
      "CPU times: user 4.9 s, sys: 817 ms, total: 5.72 s\n",
      "Wall time: 1.6 s\n"
     ]
    }
   ],
   "source": [
    "%%time\n",
    "start = time.time()\n",
    "deg_quad = 50\n",
    "rect = rect = np.array([[-1.0, 1.0], [-1.0, 1.0]])\n",
    "diffeo_param = hyper_rect(*rect)\n",
    "sob_param = Sobolev(deg=deg_quad, dim=2)\n",
    "##### Sobolev norm for the inteprolation\n",
    "sob_param.set_s(0)\n",
    "#####\n",
    "x_plt, _, _, x, _, _ = sob_param.get_quad()\n",
    "metric_param = sob_param.metric()\n",
    "W_param = sob_param.get_leja_weights()\n",
    "u_ob = surrogates.Polynomial(n=deg_quad,p=np.inf, dim=2)\n",
    "metric_2d = sob_param.metric(weak=True)\n",
    "x_l = sob_param.get_xs()\n",
    "x = x_l[0][0]#np.linspace(-1,1,10)\n",
    "#Create Regression Matrix\n",
    "X_p = u_ob.data_axes([x,x]).T\n",
    "X_plg = u_ob.data_axes([x,x]).T\n",
    "end = time.time()\n",
    "print('time consumption: %.2fs' % (end-start))"
   ]
  },
  {
   "cell_type": "code",
   "execution_count": 4,
   "metadata": {},
   "outputs": [
    {
     "data": {
      "text/plain": [
       "torch.Size([2601, 2601])"
      ]
     },
     "execution_count": 4,
     "metadata": {},
     "output_type": "execute_result"
    }
   ],
   "source": [
    "X_p.shape"
   ]
  },
  {
   "cell_type": "markdown",
   "metadata": {},
   "source": [
    "## Sample grid "
   ]
  },
  {
   "cell_type": "code",
   "execution_count": 6,
   "metadata": {},
   "outputs": [
    {
     "data": {
      "text/plain": [
       "torch.Size([10201, 2601])"
      ]
     },
     "execution_count": 6,
     "metadata": {},
     "output_type": "execute_result"
    }
   ],
   "source": [
    "x_us = np.linspace(-1,1,101)\n",
    "x = x_us[np.random.choice(len(x_us), 101, replace=False)]\n",
    "X_p = u_ob.data_axes([x,x]).T\n",
    "X_p.shape"
   ]
  },
  {
   "cell_type": "markdown",
   "metadata": {},
   "source": [
    "Function to be interpolated\n",
    "\n",
    "gt -> Ground truth as a function\n",
    "\n",
    "Fr -> Evaluation of gt at the grid x"
   ]
  },
  {
   "cell_type": "code",
   "execution_count": 7,
   "metadata": {},
   "outputs": [
    {
     "name": "stderr",
     "output_type": "stream",
     "text": [
      "/trinity/shared/pkg/devel/python/3.10.4/venv/venv_a/lib/python3.10/site-packages/torch/functional.py:568: UserWarning: torch.meshgrid: in an upcoming release, it will be required to pass the indexing argument. (Triggered internally at  ../aten/src/ATen/native/TensorShape.cpp:2228.)\n",
      "  return _VF.meshgrid(tensors, **kwargs)  # type: ignore[attr-defined]\n"
     ]
    }
   ],
   "source": [
    "wx= 1\n",
    "wy= 1\n",
    "x = torch.tensor(x)\n",
    "X, Y = torch.meshgrid(x,x)\n",
    "### Ground Truth Vector\n",
    "omega= 1\n",
    "A= 0.1\n",
    "Fr = ((A*omega**2*torch.sin(omega*X) + \n",
    "         50*(1/torch.cosh(5*X)**2)*torch.tanh(5*X))*torch.tanh(Y)).reshape(-1)\n",
    "#Fr = (1+0*X).reshape(-1)\n",
    "#(torch.cos(X)*torch.sin(Y)).reshape(-1)\n",
    "#np.cos(x)*np.sin(y)#\n",
    "def gt_x(x,y):\n",
    "    return (A*omega**2*np.sin(omega*x) + \n",
    "         50*(1/np.cosh(5*x)**2)*np.tanh(5*x))*np.tanh(y)"
   ]
  },
  {
   "cell_type": "markdown",
   "metadata": {},
   "source": [
    "start = time.time()\n",
    "K = torch.eye(len(X_p))\n",
    "KsK = matmul(X_p.T, X_p)#+0.00001*torch.eye(len(X_p.T))\n",
    "Ksf = matmul(X_p.T, Fr)\n",
    "w = matmul(KsK.inverse(), Ksf)\n",
    "#print(w.shape)\n",
    "#w = torch.tensor(sp.linalg.lstsq(KsK.detach().numpy(), Ksf.detach().numpy())[0])\n",
    "#w =  torch.tensor(sp.linalg.lstsq(X_p.detach().numpy(), Fr)[0])\n",
    "u_ob.set_weights(w)\n",
    "end = time.time()\n",
    "print('time consumption: %.2fs' % (end-start))"
   ]
  },
  {
   "cell_type": "code",
   "execution_count": 8,
   "metadata": {},
   "outputs": [],
   "source": [
    "import scipy\n",
    "reg_coeff,_,_,_ = scipy.linalg.lstsq(X_p,Fr)\n",
    "u_ob.set_weights(torch.tensor(reg_coeff))"
   ]
  },
  {
   "cell_type": "markdown",
   "metadata": {
    "tags": []
   },
   "source": [
    "u_ob.set_weights_val(0.1)\n",
    "theta_0 =  list(u_ob.parameters())[0][0]\n",
    "dt = 2\n",
    "inv_op = (torch.eye(len(KsK))+dt*KsK).inverse()\n",
    "w = theta_0\n",
    "for k in range(20000):\n",
    "    w = matmul(inv_op, w +dt*Ksf)\n",
    "u_ob.set_weights(w)"
   ]
  },
  {
   "cell_type": "code",
   "execution_count": 9,
   "metadata": {},
   "outputs": [],
   "source": [
    "b = np.linspace(-1,1,200)#np.array([x[0]])#np.linspace(-1,1,100)\n",
    "xf= np.linspace(-1,1,200)#x#np.linspace(-1,1,100)\n",
    "BF, XF = np.meshgrid(b,xf)\n",
    "X_test = u_ob.data_axes([b,xf]).T\n",
    "X_final = u_ob.data_axes([x,x]).T\n",
    "pred = u_ob(X_test).T[0].reshape(len(b),len(xf)).detach().numpy()\n",
    "X, Y = torch.meshgrid(torch.tensor(xf),torch.tensor(b))\n",
    "Fr = (torch.sin(wx*X)*torch.cos(wy*Y)).reshape(-1)\n",
    "GT = Fr.reshape(len(xf),len(b))"
   ]
  },
  {
   "cell_type": "markdown",
   "metadata": {},
   "source": [
    "SPH Quadrature in 1D"
   ]
  },
  {
   "cell_type": "code",
   "execution_count": 10,
   "metadata": {},
   "outputs": [
    {
     "name": "stdout",
     "output_type": "stream",
     "text": [
      "time consumption: 0.04s\n",
      "CPU times: user 69.9 ms, sys: 5.48 ms, total: 75.4 ms\n",
      "Wall time: 37.1 ms\n"
     ]
    }
   ],
   "source": [
    "%%time\n",
    "start = time.time()\n",
    "deg_quad = 50\n",
    "rect = rect = np.array([[-1.0, 1.0]])\n",
    "diffeo_param = hyper_rect(*rect)\n",
    "sob_param = Sobolev(deg=deg_quad, dim=1)\n",
    "##### Sobolev norm for the inteprolation\n",
    "sob_param.set_s(0)\n",
    "#####\n",
    "x_plt, _, _, x, _, _ = sob_param.get_quad()\n",
    "metric_param = sob_param.metric()\n",
    "W_param = sob_param.get_leja_weights()\n",
    "u_ob = surrogates.Polynomial(n=deg_quad,p=np.inf, dim=1)\n",
    "metric_2d = sob_param.metric(weak=True)\n",
    "x_l = sob_param.get_xs()\n",
    "x = x_l[0][0]#np.linspace(-1,1,10)\n",
    "#Create Regression Matrix\n",
    "X_p = u_ob.data_axes([x]).T\n",
    "X_plg = u_ob.data_axes([x]).T\n",
    "end = time.time()\n",
    "print('time consumption: %.2fs' % (end-start))"
   ]
  },
  {
   "cell_type": "code",
   "execution_count": 11,
   "metadata": {},
   "outputs": [],
   "source": [
    "x_us = np.linspace(-1,1,101)\n",
    "x = x_us[np.random.choice(len(x_us), 101, replace=False)]\n",
    "X_p = u_ob.data_axes([x]).T\n",
    "X_p.shape\n",
    "dx = abs(x_us[0]-x_us[1])\n",
    "epsilon = 1/2*dx"
   ]
  },
  {
   "cell_type": "code",
   "execution_count": 12,
   "metadata": {},
   "outputs": [],
   "source": [
    "def w_i(a,e):\n",
    "    return (3*a)/2 + (2*a**3)/e**2 - (7*a**2)/(2*e) + (37*e)/48 - (3*e**2)/2 + (7*e**3)/6 - (5*e**4)/16\n",
    "    "
   ]
  },
  {
   "cell_type": "code",
   "execution_count": 10,
   "metadata": {},
   "outputs": [],
   "source": [
    "def kernel(z, eps):\n",
    "    alphad = 2.0/eps\n",
    "    z = np.abs(z)\n",
    "    if z < 0.5*eps:\n",
    "        return alphad*(2.0/3.0 - (2.0*z/eps)**2 + 0.5*(2.0*z/eps)**3)\n",
    "    elif z >= 0.5*eps and z < eps:\n",
    "        return alphad*(((1.0/6.0)*(2.0-2.0*z/eps)**3))\n",
    "    else:\n",
    "        return 0.0 "
   ]
  },
  {
   "cell_type": "code",
   "execution_count": 13,
   "metadata": {},
   "outputs": [],
   "source": [
    "W_i= [2/epsilon*w_i(x[i],epsilon) for i in range(len(x))]\n",
    "W = torch.tensor(np.diag(W_i), dtype= torch.float64)\n",
    "X_reg = torch.matmul(W,X_p)\n",
    "#X_reg = X_p"
   ]
  },
  {
   "cell_type": "code",
   "execution_count": 14,
   "metadata": {},
   "outputs": [],
   "source": [
    "A= 0.1\n",
    "X = torch.tensor(x)\n",
    "Fr = ((A*omega**2*torch.sin(omega*X) + \n",
    "         50*(1/torch.cosh(5*X)**2)*torch.tanh(5*X))).reshape(-1)\n",
    "#Fr = (1+0*X).reshape(-1)\n",
    "#(torch.cos(X)*torch.sin(Y)).reshape(-1)\n",
    "#np.cos(x)*np.sin(y)#\n",
    "def gt_x(x):\n",
    "    return (A*omega**2*np.sin(omega*x) + \n",
    "         50*(1/np.cosh(5*x)**2)*np.tanh(5*x))"
   ]
  },
  {
   "cell_type": "code",
   "execution_count": 15,
   "metadata": {},
   "outputs": [],
   "source": [
    "import scipy\n",
    "reg_coeff,_,_,_ = scipy.linalg.lstsq(X_reg,Fr)\n",
    "u_ob.set_weights(torch.tensor(reg_coeff))"
   ]
  },
  {
   "cell_type": "code",
   "execution_count": 16,
   "metadata": {},
   "outputs": [
    {
     "data": {
      "text/plain": [
       "(6.624611483258818, 21.865142993385476)"
      ]
     },
     "execution_count": 16,
     "metadata": {},
     "output_type": "execute_result"
    }
   ],
   "source": [
    "np.mean(abs(pred-gt_x(xf))), np.max(abs(pred-gt_x(xf)))"
   ]
  },
  {
   "cell_type": "code",
   "execution_count": 17,
   "metadata": {},
   "outputs": [
    {
     "data": {
      "text/plain": [
       "[<matplotlib.lines.Line2D at 0x2aab5ca6a530>]"
      ]
     },
     "execution_count": 17,
     "metadata": {},
     "output_type": "execute_result"
    },
    {
     "data": {
      "image/png": "[encoded data removed]",
      "text/plain": [
       "<Figure size 432x288 with 1 Axes>"
      ]
     },
     "metadata": {
      "needs_background": "light"
     },
     "output_type": "display_data"
    }
   ],
   "source": [
    "xl = np.linspace(0,1/2,100)\n",
    "xr = np.linspace(1/2,1,100)\n",
    "plt.plot(xl,2/3-4*xl**2+1/2*(2*xl)**3)\n",
    "plt.plot(xr,1/6*(2-2*xr)**3)"
   ]
  },
  {
   "cell_type": "code",
   "execution_count": 325,
   "metadata": {},
   "outputs": [],
   "source": [
    "def Erf(x):\n",
    "    return scipy.special.erf(x)\n",
    "def M(a,b,e):\n",
    "    return np.exp(-(a-b)**2/(8*e**2))*(Erf((2+a+b)/(2*np.sqrt(2)*e))-Erf((-2+a+b)/(2*np.sqrt(2)*e)))/(4*e*np.sqrt(2*np.pi))"
   ]
  },
  {
   "cell_type": "code",
   "execution_count": 19,
   "metadata": {},
   "outputs": [],
   "source": [
    "import scipy\n",
    "x = np.linspace(-1,1,200)\n",
    "def g(x):\n",
    "    return x**2"
   ]
  },
  {
   "cell_type": "code",
   "execution_count": 20,
   "metadata": {},
   "outputs": [],
   "source": [
    "X,Y = np.meshgrid(x,x)\n",
    "X = X.flatten()\n",
    "Y = Y.flatten()"
   ]
  },
  {
   "cell_type": "code",
   "execution_count": 21,
   "metadata": {},
   "outputs": [],
   "source": [
    "def MSE(x):\n",
    "    dx = abs(x[0]-x[1])\n",
    "    return abs(np.sum(g(x)**2*dx)-2/21)"
   ]
  },
  {
   "cell_type": "code",
   "execution_count": 22,
   "metadata": {},
   "outputs": [],
   "source": [
    "x = [np.linspace(-1.1,1.1,100), np.linspace(-1.1,1.1,500), np.linspace(-1.1,1.1,1000),\n",
    "    np.linspace(-1.1,1.1,1500), np.linspace(-1.1,1.1,2000), np.linspace(-1.1,1.1,2500),\n",
    "    np.linspace(-1.1,1.1,3000), np.linspace(-1.1,1.1,3500)]\n",
    "#M_e = [MSE(x[k]) for k in range(len(x))]"
   ]
  },
  {
   "cell_type": "code",
   "execution_count": 23,
   "metadata": {},
   "outputs": [],
   "source": [
    "x_M = [np.linspace(-1.0,1.0,100), np.linspace(-1.0,1.0,500), np.linspace(-1.0,1.0,1000),\n",
    "    np.linspace(-1.0,1.0,1500), np.linspace(-1.0,1.0,2000), np.linspace(-1.0,1.0,2500),\n",
    "    np.linspace(-1.0,1.0,3000), np.linspace(-1.0,1.0,3500)]\n",
    "M_e = [MSE(x_M[k]) for k in range(len(x_M))]"
   ]
  },
  {
   "cell_type": "code",
   "execution_count": 24,
   "metadata": {},
   "outputs": [],
   "source": [
    "def sph_quad(x):\n",
    "    X,Y = np.meshgrid(x,x)\n",
    "    X = X.flatten()\n",
    "    Y = Y.flatten()\n",
    "    dx = abs(x[0]-x[1])\n",
    "    e= 2*dx\n",
    "    return abs(np.sum(g(X)*g(Y)*M(X,Y,e)*dx**2)-2/21)"
   ]
  },
  {
   "cell_type": "code",
   "execution_count": null,
   "metadata": {},
   "outputs": [],
   "source": [
    "M_sph = [sph_quad(x[k]) for k in range(len(x))]"
   ]
  },
  {
   "cell_type": "code",
   "execution_count": 26,
   "metadata": {},
   "outputs": [],
   "source": [
    "delta_x = np.array([abs(x[k][0]-x[k][1]) for k in range(len(x))])"
   ]
  },
  {
   "cell_type": "code",
   "execution_count": 27,
   "metadata": {},
   "outputs": [
    {
     "data": {
      "text/plain": [
       "Text(0, 0.5, ' Quadrature Error')"
      ]
     },
     "execution_count": 27,
     "metadata": {},
     "output_type": "execute_result"
    },
    {
     "data": {
      "image/png": "[encoded data removed]",
      "text/plain": [
       "<Figure size 432x288 with 1 Axes>"
      ]
     },
     "metadata": {
      "needs_background": "light"
     },
     "output_type": "display_data"
    }
   ],
   "source": [
    "plt.loglog(delta_x, np.array(M_e), label='MSE error')\n",
    "plt.loglog(delta_x, np.array(M_sph), label='SPH Quadrature error')\n",
    "plt.loglog(delta_x,delta_x**2, label ='O(2)')\n",
    "plt.loglog(delta_x,delta_x, label ='O(1)')\n",
    "plt.legend()\n",
    "plt.xlabel('$\\Delta x$')\n",
    "plt.ylabel(' Quadrature Error')"
   ]
  },
  {
   "cell_type": "code",
   "execution_count": 313,
   "metadata": {},
   "outputs": [],
   "source": [
    "def N (a,e,dx):\n",
    "    return (1/(4*e*np.sqrt(np.pi)))*(Erf((1-a)/e)+Erf((1+a)/e))*dx**2"
   ]
  },
  {
   "cell_type": "code",
   "execution_count": 451,
   "metadata": {},
   "outputs": [],
   "source": [
    "def k_2order(x,a,e):\n",
    "    return (1/(e*np.sqrt(2*np.pi))*np.exp(-1/2*((x-a)/e)**2))**2"
   ]
  },
  {
   "cell_type": "code",
   "execution_count": 520,
   "metadata": {},
   "outputs": [],
   "source": [
    "def gt(x):\n",
    "    return x**3*np.tanh(10*(x-np.pi))+np.cos(15*x)"
   ]
  },
  {
   "cell_type": "code",
   "execution_count": 521,
   "metadata": {},
   "outputs": [],
   "source": [
    "x = np.linspace(-1,1,100)\n",
    "dx = abs(x[0]-x[1])\n",
    "X_p = u_ob.data_axes([x]).T\n",
    "deg_quad = 10\n",
    "u_ob = surrogates.Polynomial(n=deg_quad,p=np.inf, dim=1)\n",
    "e = 2*dx\n",
    "N_m = np.diag(N(x,e,dx))"
   ]
  },
  {
   "cell_type": "code",
   "execution_count": 522,
   "metadata": {},
   "outputs": [],
   "source": [
    "def sph_reg(n_points, deg_quad):\n",
    "    u_ob = surrogates.Polynomial(n=deg_quad,p=np.inf, dim=1)\n",
    "    x_p = np.linspace(-1,1,n_points)\n",
    "    idx = np.random.randint(1,2*n_points,n_points)\n",
    "    x = x_p#x_p[idx]\n",
    "    dx = abs(x[0]-x[1])\n",
    "    X_p = u_ob.data_axes([x]).T\n",
    "    e = 4*dx\n",
    "    #N_m = np.diag(N(x,e,dx))\n",
    "    N_m = np.diag(np.array([quad(k_2order,-1,1,args=(a,e))[0] for a in x]))*dx**2\n",
    "    #Compute \n",
    "    K = np.matmul(np.matmul(X_p.T,N_m),X_p)\n",
    "    f = np.matmul(np.matmul(X_p.T,N_m),gt(x))\n",
    "    #reg_coeff,_,_,_ = scipy.linalg.lstsq(K,f)\n",
    "    reg_coeff = torch.matmul(K.inverse(),f)\n",
    "    u_ob.set_weights(torch.tensor(reg_coeff))\n",
    "    return u_ob"
   ]
  },
  {
   "cell_type": "code",
   "execution_count": 523,
   "metadata": {},
   "outputs": [
    {
     "name": "stderr",
     "output_type": "stream",
     "text": [
      "/tmp/ipykernel_69674/3092245164.py:16: UserWarning: To copy construct from a tensor, it is recommended to use sourceTensor.clone().detach() or sourceTensor.clone().detach().requires_grad_(True), rather than torch.tensor(sourceTensor).\n",
      "  u_ob.set_weights(torch.tensor(reg_coeff))\n"
     ]
    }
   ],
   "source": [
    "u_ob = sph_reg(1000,50)"
   ]
  },
  {
   "cell_type": "code",
   "execution_count": 524,
   "metadata": {},
   "outputs": [
    {
     "data": {
      "text/plain": [
       "[<matplotlib.lines.Line2D at 0x2aab852bfe80>]"
      ]
     },
     "execution_count": 524,
     "metadata": {},
     "output_type": "execute_result"
    },
    {
     "data": {
      "image/png": "[encoded data removed]",
      "text/plain": [
       "<Figure size 432x288 with 1 Axes>"
      ]
     },
     "metadata": {
      "needs_background": "light"
     },
     "output_type": "display_data"
    }
   ],
   "source": [
    "x_t = np.linspace(-1,1,1000)\n",
    "X_tr = u_ob.data_axes([x_t]).T\n",
    "G = u_ob(X_tr).T[0].detach().numpy()\n",
    "plt.plot(x_t,G, 'o')\n",
    "plt.plot(x_t, gt(x_t))"
   ]
  },
  {
   "cell_type": "code",
   "execution_count": 525,
   "metadata": {},
   "outputs": [
    {
     "data": {
      "text/plain": [
       "(0.7332083149840686, 2.759687912858791)"
      ]
     },
     "execution_count": 525,
     "metadata": {},
     "output_type": "execute_result"
    }
   ],
   "source": [
    "np.mean(abs(G-x_t**2)),np.max(abs(G-x_t**2))"
   ]
  },
  {
   "cell_type": "code",
   "execution_count": 526,
   "metadata": {},
   "outputs": [],
   "source": [
    "def MSE_reg(n_points, deg_quad):\n",
    "    u_ob = surrogates.Polynomial(n=deg_quad,p=np.inf, dim=1)\n",
    "    x_p = np.linspace(-1,1,n_points)\n",
    "    idx = np.random.randint(1,2*n_points,n_points)\n",
    "    x = x_p#x_p[idx]\n",
    "    X_p = u_ob.data_axes([x]).T\n",
    "    #Compute \n",
    "    K = np.matmul(X_p.T,X_p)\n",
    "    f = np.matmul(X_p.T,gt(x))\n",
    "    #reg_coeff,_,_,_ = scipy.linalg.lstsq(K,f)\n",
    "    reg_coeff = torch.matmul(K.inverse(),f)\n",
    "    u_ob.set_weights(torch.tensor(reg_coeff))\n",
    "    return u_ob"
   ]
  },
  {
   "cell_type": "code",
   "execution_count": 527,
   "metadata": {},
   "outputs": [
    {
     "name": "stderr",
     "output_type": "stream",
     "text": [
      "/tmp/ipykernel_69674/3205795487.py:12: UserWarning: To copy construct from a tensor, it is recommended to use sourceTensor.clone().detach() or sourceTensor.clone().detach().requires_grad_(True), rather than torch.tensor(sourceTensor).\n",
      "  u_ob.set_weights(torch.tensor(reg_coeff))\n"
     ]
    }
   ],
   "source": [
    "u_ob = MSE_reg(100,100)"
   ]
  },
  {
   "cell_type": "code",
   "execution_count": 528,
   "metadata": {},
   "outputs": [
    {
     "data": {
      "text/plain": [
       "[<matplotlib.lines.Line2D at 0x2aab84e8d4e0>]"
      ]
     },
     "execution_count": 528,
     "metadata": {},
     "output_type": "execute_result"
    },
    {
     "data": {
      "image/png": "[encoded data removed]",
      "text/plain": [
       "<Figure size 432x288 with 1 Axes>"
      ]
     },
     "metadata": {
      "needs_background": "light"
     },
     "output_type": "display_data"
    }
   ],
   "source": [
    "x_t = np.linspace(-1,1,1000)\n",
    "X_tr = u_ob.data_axes([x_t]).T\n",
    "G = u_ob(X_tr).T[0].detach().numpy()\n",
    "plt.plot(x_t,G, 'o')\n",
    "plt.plot(x_t, gt(x_t))"
   ]
  },
  {
   "cell_type": "code",
   "execution_count": 529,
   "metadata": {},
   "outputs": [
    {
     "data": {
      "text/plain": [
       "(6.090957844569115, 68.72549493871159)"
      ]
     },
     "execution_count": 529,
     "metadata": {},
     "output_type": "execute_result"
    }
   ],
   "source": [
    "np.mean(abs(G-x_t**2)),np.max(abs(G-x_t**2))"
   ]
  },
  {
   "cell_type": "code",
   "execution_count": 530,
   "metadata": {},
   "outputs": [],
   "source": [
    "x_t = np.linspace(-1,1,1000)\n",
    "X_tr = u_ob.data_axes([x_t]).T"
   ]
  },
  {
   "cell_type": "code",
   "execution_count": null,
   "metadata": {},
   "outputs": [],
   "source": []
  },
  {
   "cell_type": "code",
   "execution_count": 531,
   "metadata": {},
   "outputs": [],
   "source": [
    "N_d =np.linspace(2,196*2,196)"
   ]
  },
  {
   "cell_type": "code",
   "execution_count": 532,
   "metadata": {},
   "outputs": [
    {
     "ename": "ValueError",
     "evalue": "x and y must have same first dimension, but have shapes (196,) and (170,)",
     "output_type": "error",
     "traceback": [
      "\u001b[0;31m---------------------------------------------------------------------------\u001b[0m",
      "\u001b[0;31mValueError\u001b[0m                                Traceback (most recent call last)",
      "Input \u001b[0;32mIn [532]\u001b[0m, in \u001b[0;36m<cell line: 1>\u001b[0;34m()\u001b[0m\n\u001b[0;32m----> 1\u001b[0m \u001b[43mplt\u001b[49m\u001b[38;5;241;43m.\u001b[39;49m\u001b[43mloglog\u001b[49m\u001b[43m(\u001b[49m\u001b[43mN_d\u001b[49m\u001b[43m,\u001b[49m\u001b[43me_mse\u001b[49m\u001b[43m,\u001b[49m\u001b[43m \u001b[49m\u001b[43mlabel\u001b[49m\u001b[43m \u001b[49m\u001b[38;5;241;43m=\u001b[39;49m\u001b[38;5;124;43m'\u001b[39;49m\u001b[38;5;124;43mMSE_loss\u001b[39;49m\u001b[38;5;124;43m'\u001b[39;49m\u001b[43m)\u001b[49m;\n\u001b[1;32m      2\u001b[0m plt\u001b[38;5;241m.\u001b[39mloglog(N_d,e_sph, label \u001b[38;5;241m=\u001b[39m\u001b[38;5;124m'\u001b[39m\u001b[38;5;124mSPH_loss\u001b[39m\u001b[38;5;124m'\u001b[39m);\n\u001b[1;32m      3\u001b[0m plt\u001b[38;5;241m.\u001b[39mloglog(N_d, (\u001b[38;5;241m1\u001b[39m\u001b[38;5;241m/\u001b[39mN_d)\u001b[38;5;241m*\u001b[39m\u001b[38;5;241m*\u001b[39m\u001b[38;5;241m2\u001b[39m)\n",
      "File \u001b[0;32m/trinity/shared/pkg/devel/python/3.10.4/venv/venv_a/lib/python3.10/site-packages/matplotlib/pyplot.py:2679\u001b[0m, in \u001b[0;36mloglog\u001b[0;34m(*args, **kwargs)\u001b[0m\n\u001b[1;32m   2677\u001b[0m \u001b[38;5;129m@_copy_docstring_and_deprecators\u001b[39m(Axes\u001b[38;5;241m.\u001b[39mloglog)\n\u001b[1;32m   2678\u001b[0m \u001b[38;5;28;01mdef\u001b[39;00m \u001b[38;5;21mloglog\u001b[39m(\u001b[38;5;241m*\u001b[39margs, \u001b[38;5;241m*\u001b[39m\u001b[38;5;241m*\u001b[39mkwargs):\n\u001b[0;32m-> 2679\u001b[0m     \u001b[38;5;28;01mreturn\u001b[39;00m \u001b[43mgca\u001b[49m\u001b[43m(\u001b[49m\u001b[43m)\u001b[49m\u001b[38;5;241;43m.\u001b[39;49m\u001b[43mloglog\u001b[49m\u001b[43m(\u001b[49m\u001b[38;5;241;43m*\u001b[39;49m\u001b[43margs\u001b[49m\u001b[43m,\u001b[49m\u001b[43m \u001b[49m\u001b[38;5;241;43m*\u001b[39;49m\u001b[38;5;241;43m*\u001b[39;49m\u001b[43mkwargs\u001b[49m\u001b[43m)\u001b[49m\n",
      "File \u001b[0;32m/trinity/shared/pkg/devel/python/3.10.4/venv/venv_a/lib/python3.10/site-packages/matplotlib/axes/_axes.py:1770\u001b[0m, in \u001b[0;36mAxes.loglog\u001b[0;34m(self, *args, **kwargs)\u001b[0m\n\u001b[1;32m   1766\u001b[0m dy \u001b[38;5;241m=\u001b[39m {k: v \u001b[38;5;28;01mfor\u001b[39;00m k, v \u001b[38;5;129;01min\u001b[39;00m kwargs\u001b[38;5;241m.\u001b[39mitems()\n\u001b[1;32m   1767\u001b[0m       \u001b[38;5;28;01mif\u001b[39;00m k \u001b[38;5;129;01min\u001b[39;00m [\u001b[38;5;124m'\u001b[39m\u001b[38;5;124mbase\u001b[39m\u001b[38;5;124m'\u001b[39m, \u001b[38;5;124m'\u001b[39m\u001b[38;5;124msubs\u001b[39m\u001b[38;5;124m'\u001b[39m, \u001b[38;5;124m'\u001b[39m\u001b[38;5;124mnonpositive\u001b[39m\u001b[38;5;124m'\u001b[39m,\n\u001b[1;32m   1768\u001b[0m                \u001b[38;5;124m'\u001b[39m\u001b[38;5;124mbasey\u001b[39m\u001b[38;5;124m'\u001b[39m, \u001b[38;5;124m'\u001b[39m\u001b[38;5;124msubsy\u001b[39m\u001b[38;5;124m'\u001b[39m, \u001b[38;5;124m'\u001b[39m\u001b[38;5;124mnonposy\u001b[39m\u001b[38;5;124m'\u001b[39m]}\n\u001b[1;32m   1769\u001b[0m \u001b[38;5;28mself\u001b[39m\u001b[38;5;241m.\u001b[39mset_yscale(\u001b[38;5;124m'\u001b[39m\u001b[38;5;124mlog\u001b[39m\u001b[38;5;124m'\u001b[39m, \u001b[38;5;241m*\u001b[39m\u001b[38;5;241m*\u001b[39mdy)\n\u001b[0;32m-> 1770\u001b[0m \u001b[38;5;28;01mreturn\u001b[39;00m \u001b[38;5;28;43mself\u001b[39;49m\u001b[38;5;241;43m.\u001b[39;49m\u001b[43mplot\u001b[49m\u001b[43m(\u001b[49m\n\u001b[1;32m   1771\u001b[0m \u001b[43m    \u001b[49m\u001b[38;5;241;43m*\u001b[39;49m\u001b[43margs\u001b[49m\u001b[43m,\u001b[49m\u001b[43m \u001b[49m\u001b[38;5;241;43m*\u001b[39;49m\u001b[38;5;241;43m*\u001b[39;49m\u001b[43m{\u001b[49m\u001b[43mk\u001b[49m\u001b[43m:\u001b[49m\u001b[43m \u001b[49m\u001b[43mv\u001b[49m\u001b[43m \u001b[49m\u001b[38;5;28;43;01mfor\u001b[39;49;00m\u001b[43m \u001b[49m\u001b[43mk\u001b[49m\u001b[43m,\u001b[49m\u001b[43m \u001b[49m\u001b[43mv\u001b[49m\u001b[43m \u001b[49m\u001b[38;5;129;43;01min\u001b[39;49;00m\u001b[43m \u001b[49m\u001b[43mkwargs\u001b[49m\u001b[38;5;241;43m.\u001b[39;49m\u001b[43mitems\u001b[49m\u001b[43m(\u001b[49m\u001b[43m)\u001b[49m\u001b[43m \u001b[49m\u001b[38;5;28;43;01mif\u001b[39;49;00m\u001b[43m \u001b[49m\u001b[43mk\u001b[49m\u001b[43m \u001b[49m\u001b[38;5;129;43;01mnot\u001b[39;49;00m\u001b[43m \u001b[49m\u001b[38;5;129;43;01min\u001b[39;49;00m\u001b[43m \u001b[49m\u001b[43m{\u001b[49m\u001b[38;5;241;43m*\u001b[39;49m\u001b[43mdx\u001b[49m\u001b[43m,\u001b[49m\u001b[43m \u001b[49m\u001b[38;5;241;43m*\u001b[39;49m\u001b[43mdy\u001b[49m\u001b[43m}\u001b[49m\u001b[43m}\u001b[49m\u001b[43m)\u001b[49m\n",
      "File \u001b[0;32m/trinity/shared/pkg/devel/python/3.10.4/venv/venv_a/lib/python3.10/site-packages/matplotlib/axes/_axes.py:1632\u001b[0m, in \u001b[0;36mAxes.plot\u001b[0;34m(self, scalex, scaley, data, *args, **kwargs)\u001b[0m\n\u001b[1;32m   1390\u001b[0m \u001b[38;5;124;03m\"\"\"\u001b[39;00m\n\u001b[1;32m   1391\u001b[0m \u001b[38;5;124;03mPlot y versus x as lines and/or markers.\u001b[39;00m\n\u001b[1;32m   1392\u001b[0m \n\u001b[0;32m   (...)\u001b[0m\n\u001b[1;32m   1629\u001b[0m \u001b[38;5;124;03m(``'green'``) or hex strings (``'#008000'``).\u001b[39;00m\n\u001b[1;32m   1630\u001b[0m \u001b[38;5;124;03m\"\"\"\u001b[39;00m\n\u001b[1;32m   1631\u001b[0m kwargs \u001b[38;5;241m=\u001b[39m cbook\u001b[38;5;241m.\u001b[39mnormalize_kwargs(kwargs, mlines\u001b[38;5;241m.\u001b[39mLine2D)\n\u001b[0;32m-> 1632\u001b[0m lines \u001b[38;5;241m=\u001b[39m [\u001b[38;5;241m*\u001b[39m\u001b[38;5;28mself\u001b[39m\u001b[38;5;241m.\u001b[39m_get_lines(\u001b[38;5;241m*\u001b[39margs, data\u001b[38;5;241m=\u001b[39mdata, \u001b[38;5;241m*\u001b[39m\u001b[38;5;241m*\u001b[39mkwargs)]\n\u001b[1;32m   1633\u001b[0m \u001b[38;5;28;01mfor\u001b[39;00m line \u001b[38;5;129;01min\u001b[39;00m lines:\n\u001b[1;32m   1634\u001b[0m     \u001b[38;5;28mself\u001b[39m\u001b[38;5;241m.\u001b[39madd_line(line)\n",
      "File \u001b[0;32m/trinity/shared/pkg/devel/python/3.10.4/venv/venv_a/lib/python3.10/site-packages/matplotlib/axes/_base.py:312\u001b[0m, in \u001b[0;36m_process_plot_var_args.__call__\u001b[0;34m(self, data, *args, **kwargs)\u001b[0m\n\u001b[1;32m    310\u001b[0m     this \u001b[38;5;241m+\u001b[39m\u001b[38;5;241m=\u001b[39m args[\u001b[38;5;241m0\u001b[39m],\n\u001b[1;32m    311\u001b[0m     args \u001b[38;5;241m=\u001b[39m args[\u001b[38;5;241m1\u001b[39m:]\n\u001b[0;32m--> 312\u001b[0m \u001b[38;5;28;01myield from\u001b[39;00m \u001b[38;5;28;43mself\u001b[39;49m\u001b[38;5;241;43m.\u001b[39;49m\u001b[43m_plot_args\u001b[49m\u001b[43m(\u001b[49m\u001b[43mthis\u001b[49m\u001b[43m,\u001b[49m\u001b[43m \u001b[49m\u001b[43mkwargs\u001b[49m\u001b[43m)\u001b[49m\n",
      "File \u001b[0;32m/trinity/shared/pkg/devel/python/3.10.4/venv/venv_a/lib/python3.10/site-packages/matplotlib/axes/_base.py:498\u001b[0m, in \u001b[0;36m_process_plot_var_args._plot_args\u001b[0;34m(self, tup, kwargs, return_kwargs)\u001b[0m\n\u001b[1;32m    495\u001b[0m     \u001b[38;5;28mself\u001b[39m\u001b[38;5;241m.\u001b[39maxes\u001b[38;5;241m.\u001b[39myaxis\u001b[38;5;241m.\u001b[39mupdate_units(y)\n\u001b[1;32m    497\u001b[0m \u001b[38;5;28;01mif\u001b[39;00m x\u001b[38;5;241m.\u001b[39mshape[\u001b[38;5;241m0\u001b[39m] \u001b[38;5;241m!=\u001b[39m y\u001b[38;5;241m.\u001b[39mshape[\u001b[38;5;241m0\u001b[39m]:\n\u001b[0;32m--> 498\u001b[0m     \u001b[38;5;28;01mraise\u001b[39;00m \u001b[38;5;167;01mValueError\u001b[39;00m(\u001b[38;5;124mf\u001b[39m\u001b[38;5;124m\"\u001b[39m\u001b[38;5;124mx and y must have same first dimension, but \u001b[39m\u001b[38;5;124m\"\u001b[39m\n\u001b[1;32m    499\u001b[0m                      \u001b[38;5;124mf\u001b[39m\u001b[38;5;124m\"\u001b[39m\u001b[38;5;124mhave shapes \u001b[39m\u001b[38;5;132;01m{\u001b[39;00mx\u001b[38;5;241m.\u001b[39mshape\u001b[38;5;132;01m}\u001b[39;00m\u001b[38;5;124m and \u001b[39m\u001b[38;5;132;01m{\u001b[39;00my\u001b[38;5;241m.\u001b[39mshape\u001b[38;5;132;01m}\u001b[39;00m\u001b[38;5;124m\"\u001b[39m)\n\u001b[1;32m    500\u001b[0m \u001b[38;5;28;01mif\u001b[39;00m x\u001b[38;5;241m.\u001b[39mndim \u001b[38;5;241m>\u001b[39m \u001b[38;5;241m2\u001b[39m \u001b[38;5;129;01mor\u001b[39;00m y\u001b[38;5;241m.\u001b[39mndim \u001b[38;5;241m>\u001b[39m \u001b[38;5;241m2\u001b[39m:\n\u001b[1;32m    501\u001b[0m     \u001b[38;5;28;01mraise\u001b[39;00m \u001b[38;5;167;01mValueError\u001b[39;00m(\u001b[38;5;124mf\u001b[39m\u001b[38;5;124m\"\u001b[39m\u001b[38;5;124mx and y can be no greater than 2D, but have \u001b[39m\u001b[38;5;124m\"\u001b[39m\n\u001b[1;32m    502\u001b[0m                      \u001b[38;5;124mf\u001b[39m\u001b[38;5;124m\"\u001b[39m\u001b[38;5;124mshapes \u001b[39m\u001b[38;5;132;01m{\u001b[39;00mx\u001b[38;5;241m.\u001b[39mshape\u001b[38;5;132;01m}\u001b[39;00m\u001b[38;5;124m and \u001b[39m\u001b[38;5;132;01m{\u001b[39;00my\u001b[38;5;241m.\u001b[39mshape\u001b[38;5;132;01m}\u001b[39;00m\u001b[38;5;124m\"\u001b[39m)\n",
      "\u001b[0;31mValueError\u001b[0m: x and y must have same first dimension, but have shapes (196,) and (170,)"
     ]
    },
    {
     "data": {
      "image/png": "[encoded data removed]",
      "text/plain": [
       "<Figure size 432x288 with 1 Axes>"
      ]
     },
     "metadata": {
      "needs_background": "light"
     },
     "output_type": "display_data"
    }
   ],
   "source": [
    "plt.loglog(N_d,e_mse, label ='MSE_loss');\n",
    "plt.loglog(N_d,e_sph, label ='SPH_loss');\n",
    "plt.loglog(N_d, (1/N_d)**2)\n",
    "plt.legend()"
   ]
  },
  {
   "cell_type": "code",
   "execution_count": null,
   "metadata": {},
   "outputs": [],
   "source": [
    "def sph_reg_2(n_points, deg_quad):\n",
    "    u_ob = surrogates.Polynomial(n=deg_quad,p=np.inf, dim=1)\n",
    "    x_p = np.linspace(-1,1,2*n_points)\n",
    "    idx = np.random.randint(1,2*n_points,n_points)\n",
    "    x = x_p[idx]\n",
    "    dx = abs(x[0]-x[1])\n",
    "    X_p = u_ob.data_axes([x]).T\n",
    "    e = 4*dx\n",
    "    #N_m = np.diag(N(x,e,dx))\n",
    "    M_sph = np.array([[M(x[i],x[j],e) for i in range(len(x))]for j in range(len(x))])*dx**2\n",
    "    #Compute \n",
    "    K = np.matmul(np.matmul(X_p.T,M_sph),X_p)\n",
    "    f = np.matmul(np.matmul(X_p.T,M_sph),gt(x))\n",
    "    #reg_coeff,_,_,_ = scipy.linalg.lstsq(K,f)\n",
    "    reg_coeff = torch.matmul(K.inverse(),f)\n",
    "    u_ob.set_weights(torch.tensor(reg_coeff))\n",
    "    return u_ob"
   ]
  },
  {
   "cell_type": "code",
   "execution_count": 533,
   "metadata": {},
   "outputs": [
    {
     "name": "stderr",
     "output_type": "stream",
     "text": [
      "/tmp/ipykernel_69674/2544834466.py:16: UserWarning: To copy construct from a tensor, it is recommended to use sourceTensor.clone().detach() or sourceTensor.clone().detach().requires_grad_(True), rather than torch.tensor(sourceTensor).\n",
      "  u_ob.set_weights(torch.tensor(reg_coeff))\n",
      "/tmp/ipykernel_69674/643674817.py:4: RuntimeWarning: invalid value encountered in double_scalars\n",
      "  return np.exp(-(a-b)**2/(8*e**2))*(Erf((2+a+b)/(2*np.sqrt(2)*e))-Erf((-2+a+b)/(2*np.sqrt(2)*e)))/(4*e*np.sqrt(2*np.pi))\n",
      "/tmp/ipykernel_69674/643674817.py:4: RuntimeWarning: divide by zero encountered in double_scalars\n",
      "  return np.exp(-(a-b)**2/(8*e**2))*(Erf((2+a+b)/(2*np.sqrt(2)*e))-Erf((-2+a+b)/(2*np.sqrt(2)*e)))/(4*e*np.sqrt(2*np.pi))\n"
     ]
    },
    {
     "ename": "KeyboardInterrupt",
     "evalue": "",
     "output_type": "error",
     "traceback": [
      "\u001b[0;31m---------------------------------------------------------------------------\u001b[0m",
      "\u001b[0;31mKeyboardInterrupt\u001b[0m                         Traceback (most recent call last)",
      "Input \u001b[0;32mIn [533]\u001b[0m, in \u001b[0;36m<cell line: 3>\u001b[0;34m()\u001b[0m\n\u001b[1;32m      1\u001b[0m x_t \u001b[38;5;241m=\u001b[39m np\u001b[38;5;241m.\u001b[39mlinspace(\u001b[38;5;241m-\u001b[39m\u001b[38;5;241m1\u001b[39m,\u001b[38;5;241m1\u001b[39m,\u001b[38;5;241m1000\u001b[39m)\n\u001b[1;32m      2\u001b[0m X_tr \u001b[38;5;241m=\u001b[39m u_ob\u001b[38;5;241m.\u001b[39mdata_axes([x_t])\u001b[38;5;241m.\u001b[39mT\n\u001b[0;32m----> 3\u001b[0m e_sph_2 \u001b[38;5;241m=\u001b[39m [  np\u001b[38;5;241m.\u001b[39mmean(\u001b[38;5;28mabs\u001b[39m(sph_reg_2(\u001b[38;5;241m2\u001b[39m\u001b[38;5;241m*\u001b[39mk, \u001b[38;5;241m100\u001b[39m)(X_tr)\u001b[38;5;241m.\u001b[39mT[\u001b[38;5;241m0\u001b[39m]\u001b[38;5;241m.\u001b[39mdetach()\u001b[38;5;241m.\u001b[39mnumpy()\u001b[38;5;241m-\u001b[39mgt(x_t))) \u001b[38;5;28;01mfor\u001b[39;00m k \u001b[38;5;129;01min\u001b[39;00m \u001b[38;5;28mrange\u001b[39m(\u001b[38;5;241m4\u001b[39m,\u001b[38;5;241m200\u001b[39m)]\n",
      "Input \u001b[0;32mIn [533]\u001b[0m, in \u001b[0;36m<listcomp>\u001b[0;34m(.0)\u001b[0m\n\u001b[1;32m      1\u001b[0m x_t \u001b[38;5;241m=\u001b[39m np\u001b[38;5;241m.\u001b[39mlinspace(\u001b[38;5;241m-\u001b[39m\u001b[38;5;241m1\u001b[39m,\u001b[38;5;241m1\u001b[39m,\u001b[38;5;241m1000\u001b[39m)\n\u001b[1;32m      2\u001b[0m X_tr \u001b[38;5;241m=\u001b[39m u_ob\u001b[38;5;241m.\u001b[39mdata_axes([x_t])\u001b[38;5;241m.\u001b[39mT\n\u001b[0;32m----> 3\u001b[0m e_sph_2 \u001b[38;5;241m=\u001b[39m [  np\u001b[38;5;241m.\u001b[39mmean(\u001b[38;5;28mabs\u001b[39m(\u001b[43msph_reg_2\u001b[49m\u001b[43m(\u001b[49m\u001b[38;5;241;43m2\u001b[39;49m\u001b[38;5;241;43m*\u001b[39;49m\u001b[43mk\u001b[49m\u001b[43m,\u001b[49m\u001b[43m \u001b[49m\u001b[38;5;241;43m100\u001b[39;49m\u001b[43m)\u001b[49m(X_tr)\u001b[38;5;241m.\u001b[39mT[\u001b[38;5;241m0\u001b[39m]\u001b[38;5;241m.\u001b[39mdetach()\u001b[38;5;241m.\u001b[39mnumpy()\u001b[38;5;241m-\u001b[39mgt(x_t))) \u001b[38;5;28;01mfor\u001b[39;00m k \u001b[38;5;129;01min\u001b[39;00m \u001b[38;5;28mrange\u001b[39m(\u001b[38;5;241m4\u001b[39m,\u001b[38;5;241m200\u001b[39m)]\n",
      "Input \u001b[0;32mIn [468]\u001b[0m, in \u001b[0;36msph_reg_2\u001b[0;34m(n_points, deg_quad)\u001b[0m\n\u001b[1;32m      8\u001b[0m e \u001b[38;5;241m=\u001b[39m \u001b[38;5;241m4\u001b[39m\u001b[38;5;241m*\u001b[39mdx\n\u001b[1;32m      9\u001b[0m \u001b[38;5;66;03m#N_m = np.diag(N(x,e,dx))\u001b[39;00m\n\u001b[0;32m---> 10\u001b[0m M_sph \u001b[38;5;241m=\u001b[39m np\u001b[38;5;241m.\u001b[39marray([[M(x[i],x[j],e) \u001b[38;5;28;01mfor\u001b[39;00m i \u001b[38;5;129;01min\u001b[39;00m \u001b[38;5;28mrange\u001b[39m(\u001b[38;5;28mlen\u001b[39m(x))]\u001b[38;5;28;01mfor\u001b[39;00m j \u001b[38;5;129;01min\u001b[39;00m \u001b[38;5;28mrange\u001b[39m(\u001b[38;5;28mlen\u001b[39m(x))])\u001b[38;5;241m*\u001b[39mdx\u001b[38;5;241m*\u001b[39m\u001b[38;5;241m*\u001b[39m\u001b[38;5;241m2\u001b[39m\n\u001b[1;32m     11\u001b[0m \u001b[38;5;66;03m#Compute \u001b[39;00m\n\u001b[1;32m     12\u001b[0m K \u001b[38;5;241m=\u001b[39m np\u001b[38;5;241m.\u001b[39mmatmul(np\u001b[38;5;241m.\u001b[39mmatmul(X_p\u001b[38;5;241m.\u001b[39mT,M_sph),X_p)\n",
      "Input \u001b[0;32mIn [468]\u001b[0m, in \u001b[0;36m<listcomp>\u001b[0;34m(.0)\u001b[0m\n\u001b[1;32m      8\u001b[0m e \u001b[38;5;241m=\u001b[39m \u001b[38;5;241m4\u001b[39m\u001b[38;5;241m*\u001b[39mdx\n\u001b[1;32m      9\u001b[0m \u001b[38;5;66;03m#N_m = np.diag(N(x,e,dx))\u001b[39;00m\n\u001b[0;32m---> 10\u001b[0m M_sph \u001b[38;5;241m=\u001b[39m np\u001b[38;5;241m.\u001b[39marray([[M(x[i],x[j],e) \u001b[38;5;28;01mfor\u001b[39;00m i \u001b[38;5;129;01min\u001b[39;00m \u001b[38;5;28mrange\u001b[39m(\u001b[38;5;28mlen\u001b[39m(x))]\u001b[38;5;28;01mfor\u001b[39;00m j \u001b[38;5;129;01min\u001b[39;00m \u001b[38;5;28mrange\u001b[39m(\u001b[38;5;28mlen\u001b[39m(x))])\u001b[38;5;241m*\u001b[39mdx\u001b[38;5;241m*\u001b[39m\u001b[38;5;241m*\u001b[39m\u001b[38;5;241m2\u001b[39m\n\u001b[1;32m     11\u001b[0m \u001b[38;5;66;03m#Compute \u001b[39;00m\n\u001b[1;32m     12\u001b[0m K \u001b[38;5;241m=\u001b[39m np\u001b[38;5;241m.\u001b[39mmatmul(np\u001b[38;5;241m.\u001b[39mmatmul(X_p\u001b[38;5;241m.\u001b[39mT,M_sph),X_p)\n",
      "Input \u001b[0;32mIn [468]\u001b[0m, in \u001b[0;36m<listcomp>\u001b[0;34m(.0)\u001b[0m\n\u001b[1;32m      8\u001b[0m e \u001b[38;5;241m=\u001b[39m \u001b[38;5;241m4\u001b[39m\u001b[38;5;241m*\u001b[39mdx\n\u001b[1;32m      9\u001b[0m \u001b[38;5;66;03m#N_m = np.diag(N(x,e,dx))\u001b[39;00m\n\u001b[0;32m---> 10\u001b[0m M_sph \u001b[38;5;241m=\u001b[39m np\u001b[38;5;241m.\u001b[39marray([[\u001b[43mM\u001b[49m\u001b[43m(\u001b[49m\u001b[43mx\u001b[49m\u001b[43m[\u001b[49m\u001b[43mi\u001b[49m\u001b[43m]\u001b[49m\u001b[43m,\u001b[49m\u001b[43mx\u001b[49m\u001b[43m[\u001b[49m\u001b[43mj\u001b[49m\u001b[43m]\u001b[49m\u001b[43m,\u001b[49m\u001b[43me\u001b[49m\u001b[43m)\u001b[49m \u001b[38;5;28;01mfor\u001b[39;00m i \u001b[38;5;129;01min\u001b[39;00m \u001b[38;5;28mrange\u001b[39m(\u001b[38;5;28mlen\u001b[39m(x))]\u001b[38;5;28;01mfor\u001b[39;00m j \u001b[38;5;129;01min\u001b[39;00m \u001b[38;5;28mrange\u001b[39m(\u001b[38;5;28mlen\u001b[39m(x))])\u001b[38;5;241m*\u001b[39mdx\u001b[38;5;241m*\u001b[39m\u001b[38;5;241m*\u001b[39m\u001b[38;5;241m2\u001b[39m\n\u001b[1;32m     11\u001b[0m \u001b[38;5;66;03m#Compute \u001b[39;00m\n\u001b[1;32m     12\u001b[0m K \u001b[38;5;241m=\u001b[39m np\u001b[38;5;241m.\u001b[39mmatmul(np\u001b[38;5;241m.\u001b[39mmatmul(X_p\u001b[38;5;241m.\u001b[39mT,M_sph),X_p)\n",
      "Input \u001b[0;32mIn [325]\u001b[0m, in \u001b[0;36mM\u001b[0;34m(a, b, e)\u001b[0m\n\u001b[1;32m      3\u001b[0m \u001b[38;5;28;01mdef\u001b[39;00m \u001b[38;5;21mM\u001b[39m(a,b,e):\n\u001b[0;32m----> 4\u001b[0m     \u001b[38;5;28;01mreturn\u001b[39;00m np\u001b[38;5;241m.\u001b[39mexp(\u001b[38;5;241m-\u001b[39m(a\u001b[38;5;241m-\u001b[39mb)\u001b[38;5;241m*\u001b[39m\u001b[38;5;241m*\u001b[39m\u001b[38;5;241m2\u001b[39m\u001b[38;5;241m/\u001b[39m(\u001b[38;5;241m8\u001b[39m\u001b[38;5;241m*\u001b[39me\u001b[38;5;241m*\u001b[39m\u001b[38;5;241m*\u001b[39m\u001b[38;5;241m2\u001b[39m))\u001b[38;5;241m*\u001b[39m(Erf((\u001b[38;5;241m2\u001b[39m\u001b[38;5;241m+\u001b[39ma\u001b[38;5;241m+\u001b[39mb)\u001b[38;5;241m/\u001b[39m(\u001b[38;5;241m2\u001b[39m\u001b[38;5;241m*\u001b[39m\u001b[43mnp\u001b[49m\u001b[38;5;241;43m.\u001b[39;49m\u001b[43msqrt\u001b[49m\u001b[43m(\u001b[49m\u001b[38;5;241;43m2\u001b[39;49m\u001b[43m)\u001b[49m\u001b[38;5;241m*\u001b[39me))\u001b[38;5;241m-\u001b[39mErf((\u001b[38;5;241m-\u001b[39m\u001b[38;5;241m2\u001b[39m\u001b[38;5;241m+\u001b[39ma\u001b[38;5;241m+\u001b[39mb)\u001b[38;5;241m/\u001b[39m(\u001b[38;5;241m2\u001b[39m\u001b[38;5;241m*\u001b[39mnp\u001b[38;5;241m.\u001b[39msqrt(\u001b[38;5;241m2\u001b[39m)\u001b[38;5;241m*\u001b[39me)))\u001b[38;5;241m/\u001b[39m(\u001b[38;5;241m4\u001b[39m\u001b[38;5;241m*\u001b[39me\u001b[38;5;241m*\u001b[39mnp\u001b[38;5;241m.\u001b[39msqrt(\u001b[38;5;241m2\u001b[39m\u001b[38;5;241m*\u001b[39mnp\u001b[38;5;241m.\u001b[39mpi))\n",
      "\u001b[0;31mKeyboardInterrupt\u001b[0m: "
     ]
    }
   ],
   "source": [
    "x_t = np.linspace(-1,1,1000)\n",
    "X_tr = u_ob.data_axes([x_t]).T\n",
    "e_sph_2 = [  np.mean(abs(sph_reg_2(2*k, 100)(X_tr).T[0].detach().numpy()-gt(x_t))) for k in range(4,200)]"
   ]
  },
  {
   "cell_type": "code",
   "execution_count": null,
   "metadata": {},
   "outputs": [],
   "source": [
    "plt.loglog(N_d,e_mse, label ='MSE_loss');\n",
    "plt.loglog(N_d,e_sph, label ='SPH_loss');\n",
    "plt.loglog(N_d, e_sph_2, label ='SPH_loss_2');\n",
    "plt.loglog(N_d, (1/N_d)**5)\n",
    "plt.legend()"
   ]
  },
  {
   "cell_type": "code",
   "execution_count": 302,
   "metadata": {},
   "outputs": [],
   "source": [
    "def K_3(x,a ,e): \n",
    "    return 2/3 - 9/8*((2*(x-a+1))/e)**2 + 19/24*((2*(x-a+1))/e)**3 - 5/32*((2*(x-a+1))/e)**4"
   ]
  },
  {
   "cell_type": "code",
   "execution_count": 303,
   "metadata": {},
   "outputs": [
    {
     "data": {
      "text/plain": [
       "[<matplotlib.lines.Line2D at 0x2aab81ca52d0>]"
      ]
     },
     "execution_count": 303,
     "metadata": {},
     "output_type": "execute_result"
    },
    {
     "data": {
      "image/png": "[encoded data removed]",
      "text/plain": [
       "<Figure size 432x288 with 1 Axes>"
      ]
     },
     "metadata": {
      "needs_background": "light"
     },
     "output_type": "display_data"
    }
   ],
   "source": [
    "a = 0.1\n",
    "e = 0.01\n",
    "plt.plot(np.linspace(a,a+e,100),K_3(np.linspace(a,a+e,100),a,e))"
   ]
  },
  {
   "cell_type": "code",
   "execution_count": 304,
   "metadata": {},
   "outputs": [],
   "source": [
    "def K_1(x,a ,e): \n",
    "    if a<x<=a+e:\n",
    "        return (2/3-9/2*((x-a)/e)**2+19/3*((x-a)/e)**3-5/2*((x-a)/e)**4)\n",
    "    elif a-e<x<=a:\n",
    "        return (2/3-9/2*((x-a)/e)**2-19/3*((x-a)/e)**3-5/2*((x-a)/e)**4)\n",
    "    else: \n",
    "        return 0\n",
    "def K_2(x,a ,e): \n",
    "    if a<x<=a+e:\n",
    "        return (2/3-9/2*((x-a)/e)**2+19/3*((x-a)/e)**3-5/2*((x-a)/e)**4)**2\n",
    "    elif a-e<x<=a:\n",
    "        return (2/3-9/2*((x-a)/e)**2-19/3*((x-a)/e)**3-5/2*((x-a)/e)**4)**2\n",
    "    else: \n",
    "        return 0\n",
    "def K_p(x,a,b,e):\n",
    "    return K_1(x,a,e)*K_1(x,b,e)"
   ]
  },
  {
   "cell_type": "code",
   "execution_count": 305,
   "metadata": {},
   "outputs": [
    {
     "data": {
      "text/plain": [
       "[<matplotlib.lines.Line2D at 0x2aab82078b80>]"
      ]
     },
     "execution_count": 305,
     "metadata": {},
     "output_type": "execute_result"
    },
    {
     "data": {
      "image/png": "[encoded data removed]",
      "text/plain": [
       "<Figure size 432x288 with 1 Axes>"
      ]
     },
     "metadata": {
      "needs_background": "light"
     },
     "output_type": "display_data"
    }
   ],
   "source": [
    "a = 0.1\n",
    "b = 0.05\n",
    "e = 1\n",
    "f = [K_1(x,a,e) for x in np.linspace(a-e,a+e,100)]\n",
    "f2 = [K_1(x,b,e) for x in np.linspace(a-e,a+e,100)]\n",
    "plt.plot(np.linspace(a-e,a+e,100),f)\n",
    "plt.plot(np.linspace(a-e,a+e,100),f2)"
   ]
  },
  {
   "cell_type": "code",
   "execution_count": 306,
   "metadata": {},
   "outputs": [
    {
     "data": {
      "text/plain": [
       "array([0.25      , 0.38527748, 0.46771749, 0.49691358, 0.50009738,\n",
       "       0.50009738, 0.49691358, 0.46771749, 0.38527748, 0.25      ])"
      ]
     },
     "execution_count": 306,
     "metadata": {},
     "output_type": "execute_result"
    }
   ],
   "source": [
    "from scipy.integrate import quad\n",
    "a= 0.3\n",
    "b = 0.25\n",
    "e = 1\n",
    "N=np.array([quad(K_1,-1,1,args=(a,e))[0] for a in np.linspace(-1,1,10)])\n",
    "N"
   ]
  },
  {
   "cell_type": "code",
   "execution_count": 307,
   "metadata": {},
   "outputs": [],
   "source": [
    "x = np.linspace(-1,1,10)\n",
    "M=np.array([[quad(K_p,-1,1,args=(a,b,e))[0] for a in x]for b in x])"
   ]
  },
  {
   "cell_type": "code",
   "execution_count": 465,
   "metadata": {},
   "outputs": [
    {
     "data": {
      "text/plain": [
       "array([-0.36842105,  0.26315789, -0.36842105,  0.05263158,  0.47368421,\n",
       "        1.        ,  0.68421053,  0.47368421,  0.57894737, -0.15789474])"
      ]
     },
     "execution_count": 465,
     "metadata": {},
     "output_type": "execute_result"
    }
   ],
   "source": [
    "n_points =10\n",
    "x = np.linspace(-1,1,2*n_points)\n",
    "idx = np.random.randint(1,2*n_points,n_points)\n",
    "x[idx]"
   ]
  },
  {
   "cell_type": "code",
   "execution_count": 491,
   "metadata": {},
   "outputs": [],
   "source": [
    "def sph_reg_3(n_points, deg_quad):\n",
    "    u_ob = surrogates.Polynomial(n=deg_quad,p=np.inf, dim=1)\n",
    "    x_p = np.linspace(-1,1,n_points)\n",
    "    #idx = np.random.randint(1,2*n_points,n_points)\n",
    "    x = x_p#x_p[idx]\n",
    "    dx = abs(x[0]-x[1])\n",
    "    X_p = u_ob.data_axes([x]).T\n",
    "    e = 4*dx\n",
    "    #N_m = np.diag(N(x,e,dx))\n",
    "    M_sph = np.array([[quad(K_p,-1,1,args=(a,b,e))[0] for a in x]for b in x])*dx**2\n",
    "    #Compute \n",
    "    K = np.matmul(np.matmul(X_p.T,M_sph),X_p)\n",
    "    f = np.matmul(np.matmul(X_p.T,M_sph),gt(x))\n",
    "    reg_coeff,_,_,_ = scipy.linalg.lstsq(K,f)\n",
    "    #reg_coeff = torch.matmul(K.inverse(),f)\n",
    "    u_ob.set_weights(torch.tensor(reg_coeff))\n",
    "    return u_ob"
   ]
  },
  {
   "cell_type": "code",
   "execution_count": 498,
   "metadata": {},
   "outputs": [],
   "source": [
    "def sph_reg_4(n_points, deg_quad):\n",
    "    u_ob = surrogates.Polynomial(n=deg_quad,p=np.inf, dim=1)\n",
    "    x_p = np.linspace(-1,1,n_points)\n",
    "    idx = np.random.randint(1,n_points,n_points)\n",
    "    x = x_p#x_p[idx]\n",
    "    dx = abs(x[0]-x[1])\n",
    "    X_p = u_ob.data_axes([x]).T\n",
    "    e = 4*dx\n",
    "    #N_m = np.diag(N(x,e,dx))\n",
    "    M_sph = np.diag(np.array([quad(K_2,-1,1,args=(a,e))[0] for a in x]))*dx**2\n",
    "    #Compute \n",
    "    K = np.matmul(np.matmul(X_p.T,M_sph),X_p)\n",
    "    f = np.matmul(np.matmul(X_p.T,M_sph),gt(x))\n",
    "    reg_coeff,_,_,_ = scipy.linalg.lstsq(K,f)\n",
    "    #reg_coeff = torch.matmul(K.inverse(),f)\n",
    "    u_ob.set_weights(torch.tensor(reg_coeff))\n",
    "    return u_ob"
   ]
  },
  {
   "cell_type": "code",
   "execution_count": 534,
   "metadata": {},
   "outputs": [
    {
     "name": "stderr",
     "output_type": "stream",
     "text": [
      "/tmp/ipykernel_69674/3205795487.py:12: UserWarning: To copy construct from a tensor, it is recommended to use sourceTensor.clone().detach() or sourceTensor.clone().detach().requires_grad_(True), rather than torch.tensor(sourceTensor).\n",
      "  u_ob.set_weights(torch.tensor(reg_coeff))\n"
     ]
    }
   ],
   "source": [
    "x_t = np.linspace(-0.9,0.9,1000)\n",
    "deg_model = 50\n",
    "X_tr = MSE_reg(4, deg_model).data_axes([x_t]).T\n",
    "e_mse = [ np.mean(abs(MSE_reg(2*k, 50)(X_tr).T[0].detach().numpy()-gt(x_t))) for k in range(deg_model-20,200)]"
   ]
  },
  {
   "cell_type": "code",
   "execution_count": 535,
   "metadata": {},
   "outputs": [
    {
     "name": "stderr",
     "output_type": "stream",
     "text": [
      "/tmp/ipykernel_69674/3092245164.py:16: UserWarning: To copy construct from a tensor, it is recommended to use sourceTensor.clone().detach() or sourceTensor.clone().detach().requires_grad_(True), rather than torch.tensor(sourceTensor).\n",
      "  u_ob.set_weights(torch.tensor(reg_coeff))\n"
     ]
    }
   ],
   "source": [
    "e_sph = [ np.mean(abs(sph_reg(2*k, deg_model)(X_tr).T[0].detach().numpy()-gt(x_t))) for k in range(deg_model-20,200)]"
   ]
  },
  {
   "cell_type": "code",
   "execution_count": 536,
   "metadata": {},
   "outputs": [],
   "source": [
    "e_sph_3 = [  np.mean(abs(sph_reg_4(2*k, deg_model)(X_tr).T[0].detach().numpy()-gt(x_t))) for k in range(deg_model-20,200)]"
   ]
  },
  {
   "cell_type": "code",
   "execution_count": 537,
   "metadata": {},
   "outputs": [
    {
     "data": {
      "text/plain": [
       "<matplotlib.legend.Legend at 0x2aab82c1e860>"
      ]
     },
     "execution_count": 537,
     "metadata": {},
     "output_type": "execute_result"
    },
    {
     "data": {
      "image/png": "[encoded data removed]",
      "text/plain": [
       "<Figure size 432x288 with 1 Axes>"
      ]
     },
     "metadata": {
      "needs_background": "light"
     },
     "output_type": "display_data"
    }
   ],
   "source": [
    "N_d =np.linspace(2,len(e_mse)*2,(len(e_mse)))\n",
    "plt.loglog(N_d,e_mse, label ='MSE_loss');\n",
    "plt.loglog(N_d,e_sph, label ='SPH_loss');\n",
    "plt.loglog(N_d, e_sph_3, label ='SPH_loss_3');\n",
    "#plt.loglog(N_d[0:len(np.array(e_sph_4))], e_sph_4, label ='SPH_loss_4');\n",
    "#plt.loglog(N_d, (1/N_d)**5, label ='O(50)')\n",
    "plt.legend()"
   ]
  },
  {
   "cell_type": "markdown",
   "metadata": {},
   "source": [
    "Cheb SPH approx"
   ]
  },
  {
   "cell_type": "code",
   "execution_count": 11,
   "metadata": {},
   "outputs": [],
   "source": [
    "def Dphi(x):\n",
    "    return 1/2*np.pi*np.sin((np.pi*(-1 + n + n*x))/(2*n))\n",
    "    #return np.pi*np.cos(np.pi*x)\n",
    "def Phi_inv(x,n):\n",
    "    return 2/n*(1/2*(np.arccos(-x)*2*n/np.pi +1)-n/2)\n",
    "def Dphi_inv(x,n):\n",
    "    return 2/(np.pi*np.sqrt(1 - x**2))"
   ]
  },
  {
   "cell_type": "code",
   "execution_count": 106,
   "metadata": {},
   "outputs": [],
   "source": [
    "def f(x):\n",
    "    return 1/(1000*x**1+1)#np.sin(10*x)**2+np.cos(4*x)+x*np.tan(3*x)\n",
    "n = 500\n",
    "x_t = np.linspace(-1,1,n)\n",
    "h = abs(x_t[0]-x_t[1])\n",
    "eps = 2*h\n",
    "def Phi(x,n):\n",
    "    return -np.cos((2*(x*n/2+n/2)-1)/(2*n)*np.pi)\n",
    "phi_xt = np.linspace(-1,1,n)\n",
    "h = abs(phi_xt[0]-phi_xt[1])"
   ]
  },
  {
   "cell_type": "code",
   "execution_count": 107,
   "metadata": {},
   "outputs": [
    {
     "data": {
      "text/plain": [
       "<matplotlib.collections.PathCollection at 0x2aab5c6be140>"
      ]
     },
     "execution_count": 107,
     "metadata": {},
     "output_type": "execute_result"
    },
    {
     "data": {
      "image/png": "[encoded data removed]",
      "text/plain": [
       "<Figure size 432x288 with 1 Axes>"
      ]
     },
     "metadata": {
      "needs_background": "light"
     },
     "output_type": "display_data"
    }
   ],
   "source": [
    "plt.scatter(Phi(phi_xt,n), np.zeros(len(phi_xt))+1)"
   ]
  },
  {
   "cell_type": "code",
   "execution_count": 108,
   "metadata": {},
   "outputs": [
    {
     "data": {
      "text/plain": [
       "(1.6766661301330053e-05, 1.6758085036445975e-05)"
      ]
     },
     "execution_count": 108,
     "metadata": {},
     "output_type": "execute_result"
    }
   ],
   "source": [
    "x_test = np.linspace(-0.9,0.9,34)\n",
    "h= abs((x_t[0]-x_t[1]))\n",
    "F_sph = np.array([np.sum([f((x_t[i]+x_t[i-1])/2)*kernel((x_t[i]+x_t[i-1])/2-x_test[j],eps)*h for i in range(len(x_t))]) \n",
    "                  for j in range(len(x_test))])\n",
    "F_sph_cheb = np.array([np.sum([f((x_t[i]+x_t[i-1])/2)*kernel((x_t[i]+x_t[i-1])/2-x_test[j],eps)*abs(Phi(x_t[i],n)-Phi(x_t[i-1],n))*\n",
    "                               Dphi_inv(Phi((x_t[i]+x_t[i-1])/2,n),n) for i in range(len(x_t))]) \n",
    "                  for j in range(len(x_test))])\n",
    "np.mean(abs(F_sph-f(x_test))), np.mean(abs(F_sph_cheb-f(x_test)))"
   ]
  },
  {
   "cell_type": "code",
   "execution_count": 109,
   "metadata": {},
   "outputs": [
    {
     "data": {
      "text/plain": [
       "<matplotlib.legend.Legend at 0x2aab5c70f580>"
      ]
     },
     "execution_count": 109,
     "metadata": {},
     "output_type": "execute_result"
    },
    {
     "data": {
      "image/png": "[encoded data removed]",
      "text/plain": [
       "<Figure size 432x288 with 1 Axes>"
      ]
     },
     "metadata": {
      "needs_background": "light"
     },
     "output_type": "display_data"
    }
   ],
   "source": [
    "plt.plot(F_sph, label ='SPH');\n",
    "plt.plot(F_sph_cheb, label ='SPH_Leg');\n",
    "plt.plot(f(x_test), label = 'GT')\n",
    "plt.legend()"
   ]
  },
  {
   "cell_type": "code",
   "execution_count": null,
   "metadata": {},
   "outputs": [],
   "source": []
  },
  {
   "cell_type": "code",
   "execution_count": null,
   "metadata": {},
   "outputs": [],
   "source": []
  }
 ],
 "metadata": {
  "kernelspec": {
   "display_name": "Python 3 (ipykernel)",
   "language": "python",
   "name": "python3"
  },
  "language_info": {
   "codemirror_mode": {
    "name": "ipython",
    "version": 3
   },
   "file_extension": ".py",
   "mimetype": "text/x-python",
   "name": "python",
   "nbconvert_exporter": "python",
   "pygments_lexer": "ipython3",
   "version": "3.10.4"
  }
 },
 "nbformat": 4,
 "nbformat_minor": 4
}
