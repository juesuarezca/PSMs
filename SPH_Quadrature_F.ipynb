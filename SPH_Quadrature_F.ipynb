{
 "cells": [
  {
   "cell_type": "code",
   "execution_count": 16,
   "id": "2cafb050-c8a6-400b-b43d-d860197dd18e",
   "metadata": {},
   "outputs": [],
   "source": [
    "import numpy as np\n",
    "import torch\n",
    "import sys\n",
    "sys.path.insert(1, './PSM_V1')\n",
    "from sobolev import Sobolev\n",
    "from sobolev import Sobolev\n",
    "from solver import Solver\n",
    "from utils import matmul\n",
    "import surrogates\n",
    "import time\n",
    "from diffeomorphisms import hyper_rect\n",
    "import matplotlib\n",
    "import matplotlib.pyplot as plt\n",
    "import scipy\n",
    "#style.use('dark_background')\n",
    "matplotlib.rcdefaults() "
   ]
  },
  {
   "cell_type": "markdown",
   "id": "6bc1a51f-820e-4224-86a9-8ab742bb01e4",
   "metadata": {},
   "source": [
    "### Initialize Data "
   ]
  },
  {
   "cell_type": "code",
   "execution_count": 2,
   "id": "685a91ef-ef88-45b2-943b-3819d8c424a8",
   "metadata": {},
   "outputs": [
    {
     "name": "stdout",
     "output_type": "stream",
     "text": [
      "CPU times: user 11.1 s, sys: 1.75 s, total: 12.9 s\n",
      "Wall time: 3.06 s\n"
     ]
    }
   ],
   "source": [
    "%%time\n",
    "start = time.time()\n",
    "deg_quad = 50\n",
    "rect = rect = np.array([[-1.0, 1.0], [-1.0, 1.0]])\n",
    "diffeo_param = hyper_rect(*rect)\n",
    "sob_param = Sobolev(deg=deg_quad, dim=2)\n",
    "##### Sobolev norm for the inteprolation\n",
    "sob_param.set_s(0)\n",
    "#####\n",
    "x_plt, _, _, x, _, _ = sob_param.get_quad()\n",
    "metric_param = sob_param.metric()\n",
    "W_param = sob_param.get_leja_weights()\n",
    "u_ob = surrogates.Polynomial(n=deg_quad,p=np.inf, dim=2)\n",
    "metric_2d = sob_param.metric(weak=True)\n",
    "x_l = sob_param.get_xs()\n",
    "x = x_l[0][0]#np.linspace(-1,1,10)\n",
    "#Create Regression Matrix\n",
    "X_p = u_ob.data_axes([x,x]).T\n",
    "X_plg = u_ob.data_axes([x,x]).T\n",
    "end = time.time()"
   ]
  },
  {
   "cell_type": "markdown",
   "id": "3b6d24dc-f6a3-4aad-a2ff-ec89d0d51769",
   "metadata": {},
   "source": [
    "## Kernel $\\eta_\\epsilon(x-x_i)$ of order 4"
   ]
  },
  {
   "cell_type": "code",
   "execution_count": 3,
   "id": "841ad50b-3ad4-40ac-a27e-8d64f9311cc0",
   "metadata": {},
   "outputs": [],
   "source": [
    "def K_1(x,a ,e): \n",
    "    if a<x<=a+e:\n",
    "        return (2/3-9/2*((x-a)/e)**2+19/3*((x-a)/e)**3-5/2*((x-a)/e)**4)\n",
    "    elif a-e<x<=a:\n",
    "        return (2/3-9/2*((x-a)/e)**2-19/3*((x-a)/e)**3-5/2*((x-a)/e)**4)\n",
    "    else: \n",
    "        return 0\n",
    "#def K_2(x,a ,e): \n",
    "#    if a<x<=a+e:\n",
    "#        return (2/3-9/2*((x-a)/e)**2+19/3*((x-a)/e)**3-5/2*((x-a)/e)**4)**2\n",
    "#    elif a-e<x<=a:\n",
    "#        return (2/3-9/2*((x-a)/e)**2-19/3*((x-a)/e)**3-5/2*((x-a)/e)**4)**2\n",
    "#    else: \n",
    "        return 0\n",
    "def K_p(x,a,b,e):\n",
    "    return K_1(x,a,e)*K_1(x,b,e)"
   ]
  },
  {
   "cell_type": "code",
   "execution_count": 4,
   "id": "d9addd1f-e864-4625-bb65-ea7b1cfa69ef",
   "metadata": {},
   "outputs": [],
   "source": [
    "from scipy.integrate import quad\n",
    "a= 0.3\n",
    "b = 0.25\n",
    "e = 1\n",
    "N=np.array([quad(K_1,-1,1,args=(a,e))[0] for a in np.linspace(-1,1,10)])"
   ]
  },
  {
   "cell_type": "code",
   "execution_count": 5,
   "id": "725eee3c-b1e1-4b4c-9772-85ff57ababe2",
   "metadata": {},
   "outputs": [],
   "source": [
    "def MSE_reg(n_points, deg_quad):\n",
    "    u_ob = surrogates.Polynomial(n=deg_quad,p=np.inf, dim=1)\n",
    "    x_p = np.linspace(-1,1,n_points)\n",
    "    idx = np.random.randint(1,2*n_points,n_points)\n",
    "    x = x_p#x_p[idx]\n",
    "    X_p = u_ob.data_axes([x]).T\n",
    "    #Compute \n",
    "    K = np.matmul(X_p.T,X_p)\n",
    "    f = np.matmul(X_p.T,gt(x))\n",
    "    #reg_coeff,_,_,_ = scipy.linalg.lstsq(K,f)\n",
    "    reg_coeff = torch.matmul(K.inverse(),f)\n",
    "    u_ob.set_weights(torch.tensor(reg_coeff))\n",
    "    return u_ob"
   ]
  },
  {
   "cell_type": "code",
   "execution_count": 11,
   "id": "270ed983-b065-42cb-ba93-ae79239b8419",
   "metadata": {},
   "outputs": [],
   "source": [
    "def sph_reg_full(n_points, deg_quad):\n",
    "    # Compute Vandermorde matrix X_p for the regression\n",
    "    u_ob = surrogates.Polynomial(n=deg_quad,p=np.inf, dim=1)\n",
    "    x_p = np.linspace(-1,1,n_points)\n",
    "    #idx = np.random.randint(1,2*n_points,n_points)\n",
    "    x = x_p#x_p[idx]\n",
    "    dx = abs(x[0]-x[1])\n",
    "    X_p = u_ob.data_axes([x]).T\n",
    "    #####\n",
    "    e = 4*dx\n",
    "    #N_m = np.diag(N(x,e,dx))\n",
    "    M_sph = np.array([[quad(K_p,-1,1,args=(a,b,e))[0] for a in x]for b in x])*dx**2\n",
    "    #Compute \n",
    "    K = np.matmul(np.matmul(X_p.T,M_sph),X_p)\n",
    "    f = np.matmul(np.matmul(X_p.T,M_sph),gt(x))\n",
    "    reg_coeff,_,_,_ = scipy.linalg.lstsq(K,f)\n",
    "    #reg_coeff = torch.matmul(K.inverse(),f)\n",
    "    u_ob.set_weights(torch.tensor(reg_coeff))\n",
    "    return u_ob"
   ]
  },
  {
   "cell_type": "code",
   "execution_count": 18,
   "id": "5b46cc99-20ad-49c7-83df-24cb758160b6",
   "metadata": {},
   "outputs": [],
   "source": [
    "def sph_reg_diag(n_points, deg_quad):\n",
    "    u_ob = surrogates.Polynomial(n=deg_quad,p=np.inf, dim=1)\n",
    "    x_p = np.linspace(-1,1,n_points)\n",
    "    idx = np.random.randint(1,n_points,n_points)\n",
    "    x = x_p#x_p[idx]\n",
    "    dx = abs(x[0]-x[1])\n",
    "    X_p = u_ob.data_axes([x]).T\n",
    "    e = 4*dx\n",
    "    #N_m = np.diag(N(x,e,dx))\n",
    "    M_sph = np.diag(np.array([quad(K_1,-1,1,args=(a,e))[0] for a in x]))*dx**2\n",
    "    #Compute \n",
    "    K = np.matmul(np.matmul(X_p.T,M_sph),X_p)\n",
    "    f = np.matmul(np.matmul(X_p.T,M_sph),gt(x))\n",
    "    reg_coeff,_,_,_ = scipy.linalg.lstsq(K,f)\n",
    "    #reg_coeff = torch.matmul(K.inverse(),f)\n",
    "    u_ob.set_weights(torch.tensor(reg_coeff))\n",
    "    return u_ob"
   ]
  },
  {
   "cell_type": "markdown",
   "id": "07fd861a-91cb-41b6-b57c-16db517ccbb5",
   "metadata": {},
   "source": [
    "### Define ground truth "
   ]
  },
  {
   "cell_type": "code",
   "execution_count": 13,
   "id": "0cdcadc4-d10a-4a82-a5d3-58092d23edb5",
   "metadata": {},
   "outputs": [],
   "source": [
    "def gt(x):\n",
    "    return x**3*np.tanh(10*(x-np.pi))+np.cos(15*x)"
   ]
  },
  {
   "cell_type": "markdown",
   "id": "11d11f01-fd9d-40ae-8920-f7384bbfa919",
   "metadata": {},
   "source": [
    "### Compute errors for SPH and MSE"
   ]
  },
  {
   "cell_type": "code",
   "execution_count": 14,
   "id": "51324a6a-a862-4658-8d77-e8f58cffe02e",
   "metadata": {},
   "outputs": [
    {
     "name": "stderr",
     "output_type": "stream",
     "text": [
      "/tmp/ipykernel_138970/3205795487.py:12: UserWarning: To copy construct from a tensor, it is recommended to use sourceTensor.clone().detach() or sourceTensor.clone().detach().requires_grad_(True), rather than torch.tensor(sourceTensor).\n",
      "  u_ob.set_weights(torch.tensor(reg_coeff))\n",
      "/tmp/ipykernel_138970/2128255700.py:3: UserWarning: To copy construct from a tensor, it is recommended to use sourceTensor.clone().detach() or sourceTensor.clone().detach().requires_grad_(True), rather than torch.tensor(sourceTensor).\n",
      "  X_tr = torch.tensor(MSE_reg(4, deg_model).data_axes([x_t]).T, dtype = torch.float32)\n"
     ]
    }
   ],
   "source": [
    "x_t = np.linspace(-0.9,0.9,1000)\n",
    "deg_model = 50\n",
    "X_tr = torch.tensor(MSE_reg(4, deg_model).data_axes([x_t]).T, dtype = torch.float32)\n",
    "e_mse = [ np.mean(abs(MSE_reg(k, 50)(X_tr).T[0].detach().numpy()-gt(x_t))) for k in range(deg_model-20,100)]"
   ]
  },
  {
   "cell_type": "code",
   "execution_count": 19,
   "id": "96f1fb74-729a-4fb7-94f9-f269abd468c8",
   "metadata": {},
   "outputs": [
    {
     "name": "stderr",
     "output_type": "stream",
     "text": [
      "/tmp/ipykernel_138970/1860876543.py:12: IntegrationWarning: The integral is probably divergent, or slowly convergent.\n",
      "  M_sph = np.array([[quad(K_p,-1,1,args=(a,b,e))[0] for a in x]for b in x])*dx**2\n"
     ]
    }
   ],
   "source": [
    "e_sph = [np.mean(abs(sph_reg_full(k, deg_model)(X_tr).T[0].detach().numpy()-gt(x_t))) \n",
    "           for k in range(deg_model-20,100)]\n",
    "e_sph_diag = [np.mean(abs(sph_reg_diag(k, deg_model)(X_tr).T[0].detach().numpy()-gt(x_t))) \n",
    "           for k in range(deg_model-20,100)]"
   ]
  },
  {
   "cell_type": "code",
   "execution_count": null,
   "id": "8189445a-9cc4-4b45-b00c-fb26a96b4040",
   "metadata": {},
   "outputs": [],
   "source": [
    "N_d =np.linspace(2,len(e_mse)*2,(len(e_mse)))\n",
    "plt.loglog(N_d,e_mse, label ='MSE Regression');\n",
    "plt.loglog(N_d,e_sph, label ='SPH Regression');\n",
    "plt.loglog(N_d,e_sph_diag, label ='SPH Regression');\n",
    "#plt.loglog(N_d[0:len(np.array(e_sph_4))], e_sph_4, label ='SPH_loss_4');\n",
    "#plt.loglog(N_d, (1/N_d)**5, label ='O(50)')\n",
    "plt.legend()"
   ]
  },
  {
   "cell_type": "code",
   "execution_count": null,
   "id": "5433bab0-2e3f-4006-a4e3-dc4a8b820c4f",
   "metadata": {},
   "outputs": [],
   "source": []
  }
 ],
 "metadata": {
  "kernelspec": {
   "display_name": "Python 3 (ipykernel)",
   "language": "python",
   "name": "python3"
  },
  "language_info": {
   "codemirror_mode": {
    "name": "ipython",
    "version": 3
   },
   "file_extension": ".py",
   "mimetype": "text/x-python",
   "name": "python",
   "nbconvert_exporter": "python",
   "pygments_lexer": "ipython3",
   "version": "3.10.4"
  }
 },
 "nbformat": 4,
 "nbformat_minor": 5
}
